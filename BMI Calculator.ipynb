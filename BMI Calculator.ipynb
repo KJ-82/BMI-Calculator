{
 "cells": [
  {
   "cell_type": "code",
   "execution_count": 6,
   "id": "cb1df815",
   "metadata": {},
   "outputs": [
    {
     "name": "stdout",
     "output_type": "stream",
     "text": [
      "Enter your name: Kelly\n",
      "Enter your weight in pounds: 190\n",
      "Enter your height in inches: 72\n",
      "Your BMI is: 25.765817901234566\n",
      "Kelly, you are overweight.\n"
     ]
    }
   ],
   "source": [
    "#Recreated BMI Calculator from https://www.nhlbi.nih.gov/health/educational/lose_wt/BMI/bmicalc.htm\n",
    "\n",
    "name = input(\"Enter your name: \")\n",
    "\n",
    "weight = int(input(\"Enter your weight in pounds: \"))\n",
    "\n",
    "height = int(input(\"Enter your height in inches: \"))\n",
    "\n",
    "BMI = (weight * 703) / (height * height)  \n",
    "\n",
    "print(\"Your BMI is:\", BMI)\n",
    "\n",
    "\n",
    "if BMI>0:\n",
    "    if(BMI<18.5):\n",
    "        print(name +\", you are underwight.\")\n",
    "    elif (BMI<=24.99):\n",
    "        print(name +\", you are normal weight.\")\n",
    "    elif (BMI<29.99):\n",
    "        print(name +\", you are overweight.\")\n",
    "    elif (BMI>=30):\n",
    "        print(name +\", you are obese.\")\n",
    "else:\n",
    "    print(\"Enter valid input\")\n"
   ]
  },
  {
   "cell_type": "code",
   "execution_count": null,
   "id": "7afe8dcc",
   "metadata": {},
   "outputs": [],
   "source": []
  }
 ],
 "metadata": {
  "kernelspec": {
   "display_name": "Python 3 (ipykernel)",
   "language": "python",
   "name": "python3"
  },
  "language_info": {
   "codemirror_mode": {
    "name": "ipython",
    "version": 3
   },
   "file_extension": ".py",
   "mimetype": "text/x-python",
   "name": "python",
   "nbconvert_exporter": "python",
   "pygments_lexer": "ipython3",
   "version": "3.11.4"
  }
 },
 "nbformat": 4,
 "nbformat_minor": 5
}
